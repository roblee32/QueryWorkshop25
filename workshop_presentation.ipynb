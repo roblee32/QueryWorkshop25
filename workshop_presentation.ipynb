{
 "cells": [
  {
   "cell_type": "code",
   "id": "initial_id",
   "metadata": {
    "collapsed": true,
    "ExecuteTime": {
     "end_time": "2025-06-27T11:59:09.128608Z",
     "start_time": "2025-06-27T11:59:09.120691Z"
    }
   },
   "source": [
    "import os\n",
    "import django\n",
    "\n",
    "# Set the DJANGO_SETTINGS_MODULE to your project's settings module\n",
    "os.environ['DJANGO_SETTINGS_MODULE'] = 'QueryWorkshop25.settings'\n",
    "\n",
    "# Initialize Django\n",
    "django.setup()"
   ],
   "outputs": [],
   "execution_count": 26
  },
  {
   "metadata": {
    "ExecuteTime": {
     "end_time": "2025-06-27T11:59:09.156754Z",
     "start_time": "2025-06-27T11:59:09.139453Z"
    }
   },
   "cell_type": "code",
   "source": "os.environ['DJANGO_ALLOW_ASYNC_UNSAFE'] = 'true'",
   "id": "e9e80f45dc690251",
   "outputs": [],
   "execution_count": 27
  },
  {
   "metadata": {
    "ExecuteTime": {
     "end_time": "2025-06-27T11:59:09.167052Z",
     "start_time": "2025-06-27T11:59:09.158169Z"
    }
   },
   "cell_type": "code",
   "source": [
    "from django.db import connection, reset_queries\n",
    "from books.models import *\n",
    "\n",
    "reset_queries()\n",
    "\n",
    "\n",
    "class query_count_manager:\n",
    "    \"\"\"\n",
    "    A context manager to count the number of queries executed within its scope.\n",
    "    \"\"\"\n",
    "\n",
    "    def __init__(self, time=False):\n",
    "        self.time = time\n",
    "\n",
    "    def __enter__(self):\n",
    "        self.initial_query_count = len(connection.queries)\n",
    "        return self\n",
    "\n",
    "    def __exit__(self, exc_type, exc_value, traceback):\n",
    "        self.final_query_count = len(connection.queries)\n",
    "        self.query_count = self.final_query_count - self.initial_query_count\n",
    "        print(f\"Number of queries executed: {self.query_count}\")\n",
    "\n",
    "        if self.time:\n",
    "            self.total_time = sum(float(query['time']) for query in connection.queries[self.initial_query_count:])\n",
    "            print(f\"Approximate time taken for all queries: {self.total_time} seconds\")\n"
   ],
   "id": "614b514394444c81",
   "outputs": [],
   "execution_count": 28
  },
  {
   "metadata": {},
   "cell_type": "markdown",
   "source": "",
   "id": "89306c02e6540aef"
  },
  {
   "metadata": {},
   "cell_type": "markdown",
   "source": [
    "# When are Querysets evaluated?\n",
    "Querysets are lazy, meaning they are not evaluated until you actually need the data. This allows for optimizations and avoids unnecessary database queries. Django will also cache the results, meaning that accessing attributes multiple times will not hit the database againg."
   ],
   "id": "9544e38ddacc613"
  },
  {
   "metadata": {
    "ExecuteTime": {
     "end_time": "2025-06-27T11:59:09.185759Z",
     "start_time": "2025-06-27T11:59:09.175290Z"
    }
   },
   "cell_type": "code",
   "source": [
    "book = BookData.objects.first()\n",
    "book.title  # This will hit the database\n",
    "book.title  # This will not hit the database again, as the queryset is cached"
   ],
   "id": "a7e39dcd0b4a4f48",
   "outputs": [
    {
     "data": {
      "text/plain": [
       "'Figure factor kitchen.'"
      ]
     },
     "execution_count": 29,
     "metadata": {},
     "output_type": "execute_result"
    }
   ],
   "execution_count": 29
  },
  {
   "metadata": {},
   "cell_type": "markdown",
   "source": "Generally whenever you use a callable attribute you will hit the database, for example:",
   "id": "94ddc971e0be7eb1"
  },
  {
   "metadata": {
    "ExecuteTime": {
     "end_time": "2025-06-27T11:59:09.234560Z",
     "start_time": "2025-06-27T11:59:09.220996Z"
    }
   },
   "cell_type": "code",
   "source": [
    "book = BookData.objects.get(id=1)\n",
    "book.authors.all()  # query performed\n",
    "book.authors.all()  # query performed again"
   ],
   "id": "4841bff07f726f35",
   "outputs": [
    {
     "data": {
      "text/plain": [
       "<QuerySet [<Author: Anne Smith>, <Author: Ashley Bryant>, <Author: Tyler Wilson>, <Author: Alyssa Salazar>, <Author: Jerry Ryan>, <Author: Jennifer Sanchez>]>"
      ]
     },
     "execution_count": 30,
     "metadata": {},
     "output_type": "execute_result"
    }
   ],
   "execution_count": 30
  },
  {
   "metadata": {},
   "cell_type": "markdown",
   "source": [
    "## Operations that will force queryset evaluation\n",
    "1. Iteration (e.g., in a for loop).\n",
    "2. Slicing (e.g., `[10]`).\n",
    "3. Pickling/Serializing.\n",
    "4. repr() or str() conversion.\n",
    "5. len() function.\n",
    "6. Boolean evaluation (e.g., `if queryset:`).\n",
    "7. Converting to a list (e.g., `list(queryset)`).\n",
    "\n",
    "\n",
    "# 1. Iteration"
   ],
   "id": "16076ae8b4cb84b2"
  },
  {
   "metadata": {
    "ExecuteTime": {
     "end_time": "2025-06-27T11:59:09.351435Z",
     "start_time": "2025-06-27T11:59:09.315173Z"
    }
   },
   "cell_type": "code",
   "source": [
    "reset_queries()\n",
    "\n",
    "books = BookData.objects.all()  # This creates a queryset but does not hit the database yet\n",
    "print(\"query count after queryset creation:\", len(connection.queries))\n",
    "\n",
    "book_list = [b for b in books]  # The queryset is not evaluated until we iterate over it\n",
    "print(\"query count after iteration:\", len(connection.queries))\n",
    "\n",
    "# Django caches the queryset, so subsequent iterations will not hit the database again\n",
    "book_list_2 = [b for b in books]  # This will not hit the database again\n",
    "print(\"query count after second iteration:\", len(connection.queries))"
   ],
   "id": "48db98de7a1691f9",
   "outputs": [
    {
     "name": "stdout",
     "output_type": "stream",
     "text": [
      "query count after queryset creation: 0\n",
      "query count after iteration: 1\n",
      "query count after second iteration: 1\n"
     ]
    }
   ],
   "execution_count": 31
  },
  {
   "metadata": {},
   "cell_type": "markdown",
   "source": [
    "# 2. Slicing\n",
    "Slicing a queryset will not hit the database until you actually access the data. This allows you to limit the number of records fetched.\n"
   ],
   "id": "9f3380a3114dab82"
  },
  {
   "metadata": {
    "ExecuteTime": {
     "end_time": "2025-06-27T11:59:09.416699Z",
     "start_time": "2025-06-27T11:59:09.378282Z"
    }
   },
   "cell_type": "code",
   "source": [
    "reset_queries()\n",
    "all_books = BookData.objects.all()\n",
    "\n",
    "books = all_books[:5]  # This does not hit the database yet\n",
    "print(\"query count after slicing:\", len(connection.queries))\n",
    "\n",
    "# Accessing a single entry of the data will evaluate the queryset\n",
    "book = books[0]\n",
    "print(\"query count after accessing data:\", len(connection.queries))\n",
    "\n",
    "# using the step argument in slicing will however hit the database\n",
    "stepped_books = all_books[::2]  # This will hit the database\n",
    "print(\"query count after stepped slicing:\", len(connection.queries))"
   ],
   "id": "5934d7166698d635",
   "outputs": [
    {
     "name": "stdout",
     "output_type": "stream",
     "text": [
      "query count after slicing: 0\n",
      "query count after accessing data: 1\n",
      "query count after stepped slicing: 2\n"
     ]
    }
   ],
   "execution_count": 32
  },
  {
   "metadata": {},
   "cell_type": "markdown",
   "source": [
    "# 3. Serializing/Cacheing\n",
    "Serializing or cacheing a queryset will evaluate it, hitting the database to fetch the data."
   ],
   "id": "a405bccd1632c5b5"
  },
  {
   "metadata": {
    "ExecuteTime": {
     "end_time": "2025-06-27T11:59:09.583035Z",
     "start_time": "2025-06-27T11:59:09.473134Z"
    }
   },
   "cell_type": "code",
   "source": [
    "from django.core.cache import cache\n",
    "\n",
    "with query_count_manager():\n",
    "    books = BookData.objects.all()\n",
    "    cache.set('books', books, 0)  # This will hit the database"
   ],
   "id": "6039479b2200b860",
   "outputs": [
    {
     "name": "stdout",
     "output_type": "stream",
     "text": [
      "Number of queries executed: 1\n"
     ]
    }
   ],
   "execution_count": 33
  },
  {
   "metadata": {},
   "cell_type": "markdown",
   "source": [
    "# 4. repr() or str() conversion\n",
    "When you convert a queryset to a string or use `repr()`, it will evaluate the queryset and hit the database. This usually happens when you print the queryset or use it in a template."
   ],
   "id": "6ff765cd3eb549b9"
  },
  {
   "metadata": {
    "ExecuteTime": {
     "end_time": "2025-06-27T11:59:09.599180Z",
     "start_time": "2025-06-27T11:59:09.590890Z"
    }
   },
   "cell_type": "code",
   "source": [
    "with query_count_manager():\n",
    "    books = BookData.objects.all()[:10]\n",
    "    print(books)\n"
   ],
   "id": "a06c7867c4624ffd",
   "outputs": [
    {
     "name": "stdout",
     "output_type": "stream",
     "text": [
      "<QuerySet [<BookData: Figure factor kitchen.>, <BookData: Politics election dog.>, <BookData: Art born.>, <BookData: Age them include already.>, <BookData: Role.>, <BookData: Clear.>, <BookData: Because.>, <BookData: Activity interview near.>, <BookData: Employee yard account.>, <BookData: Quality house.>]>\n",
      "Number of queries executed: 1\n"
     ]
    }
   ],
   "execution_count": 34
  },
  {
   "metadata": {},
   "cell_type": "markdown",
   "source": [
    "# 5. len()\n",
    "Using len will evaluate a queryset and hit the database to count the number of records."
   ],
   "id": "5e7a4bbccda29cae"
  },
  {
   "metadata": {
    "ExecuteTime": {
     "end_time": "2025-06-27T11:59:09.670830Z",
     "start_time": "2025-06-27T11:59:09.638170Z"
    }
   },
   "cell_type": "code",
   "source": [
    "with query_count_manager():\n",
    "    books = BookData.objects.all()\n",
    "    len(books)  # This will hit the database to count the records\n",
    "\n",
    "# There is a better way to do this to using `count()` as the db is not sending all records back.\n",
    "number_books = BookData.objects.count()"
   ],
   "id": "a5aa0d3698d42e49",
   "outputs": [
    {
     "name": "stdout",
     "output_type": "stream",
     "text": [
      "Number of queries executed: 1\n"
     ]
    }
   ],
   "execution_count": 35
  },
  {
   "metadata": {},
   "cell_type": "markdown",
   "source": [
    "# 6. Boolean evaluation\n",
    "Using a queryset in a boolean context will evaluate it and hit the database.\n"
   ],
   "id": "d46c0476d451ca0a"
  },
  {
   "metadata": {
    "ExecuteTime": {
     "end_time": "2025-06-27T11:59:09.747535Z",
     "start_time": "2025-06-27T11:59:09.695583Z"
    }
   },
   "cell_type": "code",
   "source": [
    "with query_count_manager():\n",
    "    books = BookData.objects.all()\n",
    "    if books:  # This will hit the database to check if there are any records\n",
    "        print(\"There are books in the database\")\n",
    "\n",
    "# There is a better way to do this using `exists()` as it check for existence without counting or fetching all records.\n",
    "number_books_exist = BookData.objects.exists()"
   ],
   "id": "c4f269184ddb1a61",
   "outputs": [
    {
     "name": "stdout",
     "output_type": "stream",
     "text": [
      "There are books in the database\n",
      "Number of queries executed: 1\n"
     ]
    }
   ],
   "execution_count": 36
  },
  {
   "metadata": {},
   "cell_type": "markdown",
   "source": "# 7. Converting to a list",
   "id": "5e41a0e369acddb9"
  },
  {
   "metadata": {
    "ExecuteTime": {
     "end_time": "2025-06-27T11:59:09.793703Z",
     "start_time": "2025-06-27T11:59:09.760762Z"
    }
   },
   "cell_type": "code",
   "source": [
    "with query_count_manager():\n",
    "    books = BookData.objects.all()\n",
    "    book_list = list(books)  # This will hit the database to fetch all records\n",
    "    print(f\"Number of books fetched: {len(book_list)}\")"
   ],
   "id": "f8e579461d586440",
   "outputs": [
    {
     "name": "stdout",
     "output_type": "stream",
     "text": [
      "Number of books fetched: 5000\n",
      "Number of queries executed: 1\n"
     ]
    }
   ],
   "execution_count": 37
  },
  {
   "metadata": {},
   "cell_type": "markdown",
   "source": [
    "# N+1 Queries Problem\n",
    "\n",
    "The N+1 queries problem occurs when a query is made for each item in a queryset, leading to excess database accesses. For each object you are hitting the database an additional time to fetch the title of the book. This can be mitigated by using `select_related` or `prefetch_related`."
   ],
   "id": "9e9d61bfbdf81096"
  },
  {
   "metadata": {
    "ExecuteTime": {
     "end_time": "2025-06-27T11:59:10.102660Z",
     "start_time": "2025-06-27T11:59:09.801750Z"
    }
   },
   "cell_type": "code",
   "source": [
    "# Bad N+1 query example\n",
    "with query_count_manager():\n",
    "    # This will execute the query and count the number of queries made\n",
    "    books = Book.objects.all()\n",
    "    for book in books[:1000]:\n",
    "        _ = book.book_data.title\n"
   ],
   "id": "8215bc28fc0a5320",
   "outputs": [
    {
     "name": "stdout",
     "output_type": "stream",
     "text": [
      "Number of queries executed: 1001\n"
     ]
    }
   ],
   "execution_count": 38
  },
  {
   "metadata": {},
   "cell_type": "markdown",
   "source": [
    "# Select Related\n",
    "Using `select_related` allows you to fetch related objects in a single query, reducing the number of queries executed. This can only be used for single-valued relationships (ForeignKey, OneToOneField) and not ManyToMany relationships."
   ],
   "id": "8568e46af8656b1c"
  },
  {
   "metadata": {
    "ExecuteTime": {
     "end_time": "2025-06-27T11:59:10.203087Z",
     "start_time": "2025-06-27T11:59:10.186758Z"
    }
   },
   "cell_type": "code",
   "source": [
    "with query_count_manager():\n",
    "    books = Book.objects.all().select_related('book_data')\n",
    "    for book in books[:1000]:\n",
    "        _ = book.book_data.title"
   ],
   "id": "de9c575b35d2545b",
   "outputs": [
    {
     "name": "stdout",
     "output_type": "stream",
     "text": [
      "Number of queries executed: 1\n"
     ]
    }
   ],
   "execution_count": 39
  },
  {
   "metadata": {},
   "cell_type": "markdown",
   "source": [
    "# Prefetch Related\n",
    "Using `prefetch_related` allows you to fetch related objects in a separate query, which is then joined together in Python. This is useful for ManyToMany relationships or when you want to fetch multiple related objects to avoid everything being done in one very complex query, which can take longer."
   ],
   "id": "e7ac5317465ed654"
  },
  {
   "metadata": {
    "ExecuteTime": {
     "end_time": "2025-06-27T11:59:10.283544Z",
     "start_time": "2025-06-27T11:59:10.269071Z"
    }
   },
   "cell_type": "code",
   "source": [
    "with query_count_manager():\n",
    "    book_data = Book.objects.all().prefetch_related('library')\n",
    "\n",
    "    for book in book_data[:1000]:\n",
    "        _ = book.library.name\n"
   ],
   "id": "d7a5c30edd99cb85",
   "outputs": [
    {
     "name": "stdout",
     "output_type": "stream",
     "text": [
      "Number of queries executed: 2\n"
     ]
    }
   ],
   "execution_count": 40
  },
  {
   "metadata": {},
   "cell_type": "markdown",
   "source": [
    "# Get the DB to do the work rather than Python\n",
    "\n",
    "There are many operation that are done more efficiently by the database rather than in Python. You can also take advantage of the fact that the database is designed to handle large amounts of data efficiently. Here are some examples:"
   ],
   "id": "228b0ca92daed57d"
  },
  {
   "metadata": {},
   "cell_type": "markdown",
   "source": [
    "## 1. Filtering\n",
    "Filtering data in the database is more efficient than filtering it in Python. Use the `filter()` and `exclude` methods to retrieve only the records you need."
   ],
   "id": "4f019097fb53b75"
  },
  {
   "metadata": {
    "ExecuteTime": {
     "end_time": "2025-06-27T11:59:10.409110Z",
     "start_time": "2025-06-27T11:59:10.373040Z"
    }
   },
   "cell_type": "code",
   "source": "books = list(BookData.objects.filter(page_count__gt=100))  # Get all books with more than 100 pages",
   "id": "ccf4abc87a826ab8",
   "outputs": [],
   "execution_count": 41
  },
  {
   "metadata": {
    "ExecuteTime": {
     "end_time": "2025-06-27T11:59:10.454707Z",
     "start_time": "2025-06-27T11:59:10.424533Z"
    }
   },
   "cell_type": "code",
   "source": [
    "all_books = BookData.objects.all()\n",
    "books = []\n",
    "for book in all_books:\n",
    "    if book.page_count > 100:\n",
    "        books.append(book)  # This is less efficient than filtering in the database"
   ],
   "id": "4ccda5703a6b2370",
   "outputs": [],
   "execution_count": 42
  },
  {
   "metadata": {},
   "cell_type": "markdown",
   "source": [
    "## 2. F Expressions\n",
    "F Expression can be used to directly reference fields in the database, allowing you to make changes without having to even load the objects into memory. This is particularly useful for bulk updates or calculations."
   ],
   "id": "8bc676310e1240c9"
  },
  {
   "metadata": {
    "ExecuteTime": {
     "end_time": "2025-06-27T11:59:10.478977Z",
     "start_time": "2025-06-27T11:59:10.463062Z"
    }
   },
   "cell_type": "code",
   "source": [
    "from django.db.models import F\n",
    "\n",
    "with query_count_manager():\n",
    "    # I didn't like the ending to any of the books, so I decided to write my own ending instead\n",
    "    # Increase the page count of all books by 10\n",
    "    BookData.objects.update(page_count=F('page_count') + 10)"
   ],
   "id": "41a8c24e69d19548",
   "outputs": [
    {
     "name": "stdout",
     "output_type": "stream",
     "text": [
      "Number of queries executed: 1\n"
     ]
    }
   ],
   "execution_count": 43
  },
  {
   "metadata": {
    "ExecuteTime": {
     "end_time": "2025-06-27T11:59:25.386627Z",
     "start_time": "2025-06-27T11:59:10.486751Z"
    }
   },
   "cell_type": "code",
   "source": [
    "# That was much faster than iterating over all books and updating them one by one\n",
    "with query_count_manager():\n",
    "    books = BookData.objects.all()\n",
    "    for book in books:\n",
    "        book.page_count -= 10  # The library made me do this :(\n",
    "        book.save()"
   ],
   "id": "389c881ab693b06f",
   "outputs": [
    {
     "name": "stdout",
     "output_type": "stream",
     "text": [
      "Number of queries executed: 5001\n"
     ]
    }
   ],
   "execution_count": 44
  },
  {
   "metadata": {
    "ExecuteTime": {
     "end_time": "2025-06-27T11:59:25.403797Z",
     "start_time": "2025-06-27T11:59:25.395899Z"
    }
   },
   "cell_type": "code",
   "source": [
    "# F Expressions can also be used to filter data based on calculations\n",
    "# Which books were written before their authors were born?\n",
    "BookData.objects.filter(authors__birth_date__gt=F('published_date')).distinct()"
   ],
   "id": "bd519db0f6630fd2",
   "outputs": [
    {
     "data": {
      "text/plain": [
       "<QuerySet [<BookData: Figure factor kitchen.>, <BookData: Politics election dog.>, <BookData: Art born.>, <BookData: Age them include already.>, <BookData: Role.>, <BookData: Clear.>, <BookData: Because.>, <BookData: Activity interview near.>, <BookData: Employee yard account.>, <BookData: Quality house.>, <BookData: Road degree.>, <BookData: Appear program get.>, <BookData: Daughter local past.>, <BookData: Deal certain.>, <BookData: Cell focus her.>, <BookData: There protect bank benefit.>, <BookData: Sometimes thank data.>, <BookData: Rise born.>, <BookData: Deal half look.>, <BookData: Especially soldier.>, '...(remaining elements truncated)...']>"
      ]
     },
     "execution_count": 45,
     "metadata": {},
     "output_type": "execute_result"
    }
   ],
   "execution_count": 45
  },
  {
   "metadata": {},
   "cell_type": "markdown",
   "source": [
    "# 3. Aggregation/Annotation\n",
    "Aggregation allows you to perform calculations on your data directly in the database, such as counting, summing, averaging, etc. This is generally more efficient than doing these calculations in Python.\n"
   ],
   "id": "7b9adb10d1f292d4"
  },
  {
   "metadata": {
    "ExecuteTime": {
     "end_time": "2025-06-27T11:59:25.482234Z",
     "start_time": "2025-06-27T11:59:25.447084Z"
    }
   },
   "cell_type": "code",
   "source": "len(BookData.objects.all())",
   "id": "83f0132bf4245e1b",
   "outputs": [
    {
     "data": {
      "text/plain": [
       "5000"
      ]
     },
     "execution_count": 46,
     "metadata": {},
     "output_type": "execute_result"
    }
   ],
   "execution_count": 46
  },
  {
   "metadata": {
    "ExecuteTime": {
     "end_time": "2025-06-27T11:59:25.515357Z",
     "start_time": "2025-06-27T11:59:25.509840Z"
    }
   },
   "cell_type": "code",
   "source": "BookData.objects.all().count()",
   "id": "bd94e12a59c34e4b",
   "outputs": [
    {
     "data": {
      "text/plain": [
       "5000"
      ]
     },
     "execution_count": 47,
     "metadata": {},
     "output_type": "execute_result"
    }
   ],
   "execution_count": 47
  },
  {
   "metadata": {
    "ExecuteTime": {
     "end_time": "2025-06-27T11:59:25.571126Z",
     "start_time": "2025-06-27T11:59:25.564850Z"
    }
   },
   "cell_type": "code",
   "source": [
    "# Annotation allows you to add calculated fields to your queryset, which can be used for further filtering or ordering.\n",
    "from django.db.models import Count\n",
    "\n",
    "# Count the number of books for each author\n",
    "Author.objects.annotate(book_count=Count('books')).values_list(\"name\", \"book_count\")"
   ],
   "id": "e78df2dc22cf586c",
   "outputs": [
    {
     "data": {
      "text/plain": [
       "<QuerySet [('Brian Perry', 23), ('Lauren Hernandez', 29), ('Jessica Vance', 21), ('Mr. Michael Johnson', 28), ('Christopher Schneider', 23), ('Sara Dixon', 35), ('Emma Koch', 27), ('Brian Roberts', 18), ('Heather Garner', 27), ('Kimberly Ortiz', 21), ('Pamela Molina', 22), ('Donald Robbins', 26), ('Kathryn Newton', 27), ('Ernest Payne', 30), ('Jeffrey Brown', 30), ('Zachary Vega', 27), ('Michael Taylor', 25), ('Sara Mills', 24), ('Roy Smith', 30), ('Paige Gibson', 23), '...(remaining elements truncated)...']>"
      ]
     },
     "execution_count": 48,
     "metadata": {},
     "output_type": "execute_result"
    }
   ],
   "execution_count": 48
  },
  {
   "metadata": {},
   "cell_type": "markdown",
   "source": [
    "# Indexing\n",
    "Indexing is a powerful way to speed up database queries. It allows the database to quickly locate and retrieve data without scanning the entire table. You can create indexes on fields that are frequently used in filters or joins. But be careful, as too many indexes can slow down write operations, as the index needs to be recalculated when new data is added."
   ],
   "id": "d9f2d04c7466601c"
  },
  {
   "metadata": {},
   "cell_type": "markdown",
   "source": [
    "```python\n",
    "\n",
    "class Library(models.Model):\n",
    "    address = models.CharField(max_length=300, db_index=True)  # Adding an index to the address field\n",
    "    name = models.CharField(max_length=200)\n",
    "\n",
    "    class Meta:\n",
    "        indexes = [\n",
    "            models.Index(fields=['name'], name='library_name_idx'), # Custom index on the name field\n",
    "        ]\n",
    "```\n",
    "using the unique constraint on the ISBN field will automatically create an index on that field, which can speed up lookups."
   ],
   "id": "6e4223c4077a6a28"
  },
  {
   "metadata": {
    "ExecuteTime": {
     "end_time": "2025-06-27T11:59:25.619782Z",
     "start_time": "2025-06-27T11:59:25.611754Z"
    }
   },
   "cell_type": "code",
   "source": "last_book_data = BookData.objects.last()",
   "id": "dd6abc49e35bc841",
   "outputs": [],
   "execution_count": 49
  },
  {
   "metadata": {
    "ExecuteTime": {
     "end_time": "2025-06-27T11:59:26.708936Z",
     "start_time": "2025-06-27T11:59:26.701596Z"
    }
   },
   "cell_type": "code",
   "source": "BookData.objects.get(isbn=last_book_data.isbn).isbn  # This will use the index on the isbn field to quickly locate the book",
   "id": "19f515b9390a9987",
   "outputs": [
    {
     "data": {
      "text/plain": [
       "'978-0-367-644'"
      ]
     },
     "execution_count": 51,
     "metadata": {},
     "output_type": "execute_result"
    }
   ],
   "execution_count": 51
  },
  {
   "metadata": {
    "ExecuteTime": {
     "end_time": "2025-06-27T11:59:28.701008Z",
     "start_time": "2025-06-27T11:59:28.689293Z"
    }
   },
   "cell_type": "code",
   "source": [
    "BookData.objects.get(\n",
    "    isbn_not_unique=last_book_data.isbn_not_unique).isbn_not_unique  # This will not use the index, as the field is not unique"
   ],
   "id": "955527dffff7a5bc",
   "outputs": [
    {
     "data": {
      "text/plain": [
       "'978-0-04-9557'"
      ]
     },
     "execution_count": 52,
     "metadata": {},
     "output_type": "execute_result"
    }
   ],
   "execution_count": 52
  },
  {
   "metadata": {},
   "cell_type": "markdown",
   "source": [
    "# Only Fetch What You Need\n",
    "When working with large datasets, it's important to only fetch the data you need. This can be done using the `only()` and `defer()` methods to limit the fields fetched from the database. `only()` will fetch only the specified fields, while `defer()` will fetch all fields except the specified ones. This can significantly reduce the amount of data transferred from the database to your application. If you do use a field that was deferred, it will hit the database to fetch that field."
   ],
   "id": "9f4c652caa8e8174"
  },
  {
   "metadata": {
    "ExecuteTime": {
     "end_time": "2025-06-27T11:59:40.254678Z",
     "start_time": "2025-06-27T11:59:40.236327Z"
    }
   },
   "cell_type": "code",
   "source": [
    "# Only\n",
    "with query_count_manager():\n",
    "    books = BookData.objects.only('title', 'isbn')[:10]  # Only fetch the title and isbn fields\n",
    "    for book in books:\n",
    "        _ = book.title, book.isbn  # This will not hit the database again, as the fields are already fetched"
   ],
   "id": "be57bf680e4136fa",
   "outputs": [
    {
     "name": "stdout",
     "output_type": "stream",
     "text": [
      "Number of queries executed: 1\n"
     ]
    }
   ],
   "execution_count": 53
  },
  {
   "metadata": {},
   "cell_type": "code",
   "source": [
    "with query_count_manager():\n",
    "    books = BookData.objects.only('title', 'isbn')[:10]  # Fetch all fields\n",
    "    for book in books:\n",
    "        _ = book.title, book.page_count  # This will hit the database again, as the page_count field was not included"
   ],
   "id": "51f398a3464ed4de",
   "outputs": [],
   "execution_count": null
  },
  {
   "metadata": {},
   "cell_type": "markdown",
   "source": [
    "# Values and Values List\n",
    "Using `values()` or `values_list()` allows you to fetch only the fields you need, returning dictionaries or tuples instead of model instances. This can be more efficient when you don't need the full model functionality."
   ],
   "id": "17cdfd8c4947c6eb"
  },
  {
   "metadata": {},
   "cell_type": "code",
   "source": [
    "from pympler import asizeof\n",
    "\n",
    "all_books = list(BookData.objects.all())\n",
    "\n",
    "# profile to see memory usage\n",
    "print(f\"Memory usage before values: {asizeof.asizeof(all_books)} bytes\")"
   ],
   "id": "b2cbd312aa2ff7fe",
   "outputs": [],
   "execution_count": null
  },
  {
   "metadata": {},
   "cell_type": "code",
   "source": [
    "all_books_values = list(BookData.objects.values(\"title\"))\n",
    "print(f\"Memory usage after values: {asizeof.asizeof(all_books_values)} bytes\")"
   ],
   "id": "1e7e4b677c43fc9",
   "outputs": [],
   "execution_count": null
  },
  {
   "metadata": {},
   "cell_type": "markdown",
   "source": [
    "# Iterator\n",
    "Using `iterator()` can be more memory-efficient when dealing with large querysets. It fetches the data in chunks instead of loading the entire queryset into memory at once. It will also not cache the queryset, so you will hit the database every time you access the data from scratch. That means that the data you've already looped through will be discarded, reducing the memory cost of the queryset.\n"
   ],
   "id": "36575858029de6f3"
  },
  {
   "metadata": {},
   "cell_type": "code",
   "source": [
    "with query_count_manager():\n",
    "    books = BookData.objects.all().iterator(chunk_size=200)  # Fetch data in chunks\n",
    "    for book in books:\n",
    "        _ = book.title  # This will hit the database for each chunk, but not for each book\n",
    "\n",
    "        # the books iterator is now empty, as it has been exhausted\n",
    "        # I'd need to fetch the data again to access it\n",
    "\n",
    "    books = BookData.objects.all().iterator(chunk_size=200)  # Fetch data in chunks\n",
    "    for book in books:\n",
    "        _ = book.title\n"
   ],
   "id": "4987f5351fd95679",
   "outputs": [],
   "execution_count": null
  },
  {
   "metadata": {},
   "cell_type": "markdown",
   "source": [
    "# Bulk Methods\n",
    "Bulk methods allow you to perform operations on multiple records at once, which can be more efficient than doing them one by one. This is particularly useful for creating or updating large numbers of records.\n",
    "\n",
    "- Bulk Create: `bulk_create()`\n",
    "- Bulk Update: `bulk_update()`\n",
    "- Bulk Delete: `bulk_delete()`"
   ],
   "id": "14d809097c8a35ed"
  },
  {
   "metadata": {},
   "cell_type": "code",
   "source": [
    "new_book = BookData(title=\"New Book\", isbn=\"978-3-16-148410-0\", published_date=\"2023-10-01\", page_count=100)\n",
    "second_new_book = BookData(title=\"Second New Book\", isbn=\"978-3-16-148410-1\", published_date=\"2023-10-02\", page_count=200)\n"
   ],
   "id": "fcc203853a1538a2",
   "outputs": [],
   "execution_count": null
  },
  {
   "metadata": {},
   "cell_type": "code",
   "source": [
    "\n",
    "with query_count_manager():\n",
    "    # Using bulk_create to create multiple records at once\n",
    "    BookData.objects.bulk_create([new_book, second_new_book])  # This will hit the database once to create both records\n"
   ],
   "id": "43f67f98e39d3304",
   "outputs": [],
   "execution_count": null
  },
  {
   "metadata": {},
   "cell_type": "code",
   "source": [
    "with query_count_manager():\n",
    "    # Using bulk_update to update multiple records at once\n",
    "\n",
    "    new_book.title = \"Updated New Book\"\n",
    "    second_new_book.page_count = 210  # I wrote a few more pages\n",
    "    BookData.objects.bulk_update([new_book, second_new_book], [\"title\", \"page_count\"])  # This will hit the database once to update both records"
   ],
   "id": "85a582f81154dc7d",
   "outputs": [],
   "execution_count": null
  },
  {
   "metadata": {},
   "cell_type": "code",
   "source": [
    "with query_count_manager():\n",
    "    # Using bulk_delete to delete multiple records at once\n",
    "    BookData.objects.filter(id__in=[new_book.id, second_new_book.id]).delete() # This will hit the database once to delete both records"
   ],
   "id": "42975eed6e35b2db",
   "outputs": [],
   "execution_count": null
  }
 ],
 "metadata": {
  "kernelspec": {
   "display_name": "Python 3",
   "language": "python",
   "name": "python3"
  },
  "language_info": {
   "codemirror_mode": {
    "name": "ipython",
    "version": 2
   },
   "file_extension": ".py",
   "mimetype": "text/x-python",
   "name": "python",
   "nbconvert_exporter": "python",
   "pygments_lexer": "ipython2",
   "version": "2.7.6"
  }
 },
 "nbformat": 4,
 "nbformat_minor": 5
}
